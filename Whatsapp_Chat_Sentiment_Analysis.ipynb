{
  "nbformat": 4,
  "nbformat_minor": 0,
  "metadata": {
    "colab": {
      "provenance": [],
      "authorship_tag": "ABX9TyPsVPTgva9IrYu+6IDUMpkw",
      "include_colab_link": true
    },
    "kernelspec": {
      "name": "python3",
      "display_name": "Python 3"
    },
    "language_info": {
      "name": "python"
    }
  },
  "cells": [
    {
      "cell_type": "markdown",
      "metadata": {
        "id": "view-in-github",
        "colab_type": "text"
      },
      "source": [
        "<a href=\"https://colab.research.google.com/github/shahzaib-G/portfolio/blob/main/Whatsapp_Chat_Sentiment_Analysis.ipynb\" target=\"_parent\"><img src=\"https://colab.research.google.com/assets/colab-badge.svg\" alt=\"Open In Colab\"/></a>"
      ]
    },
    {
      "cell_type": "code",
      "source": [
        "import pandas as pd\n",
        "import numpy as np\n",
        "import re\n",
        "import nltk\n",
        "nltk.download('vader_lexicon')\n",
        "import matplotlib.pyplot as plt\n",
        "from PIL import Image\n",
        "from collections import Counter\n",
        "from wordcloud import WordCloud, STOPWORDS, ImageColorGenerator\n",
        "from nltk.sentiment.vader import SentimentIntensityAnalyzer\n",
        "\n"
      ],
      "metadata": {
        "colab": {
          "base_uri": "https://localhost:8080/"
        },
        "id": "N1Ajfx1d-m3m",
        "outputId": "117349df-2444-434a-d877-57c8b88be077"
      },
      "execution_count": 25,
      "outputs": [
        {
          "output_type": "stream",
          "name": "stderr",
          "text": [
            "[nltk_data] Downloading package vader_lexicon to /root/nltk_data...\n",
            "[nltk_data]   Package vader_lexicon is already up-to-date!\n"
          ]
        }
      ]
    },
    {
      "cell_type": "code",
      "execution_count": 5,
      "metadata": {
        "id": "xdFssopG-M2X"
      },
      "outputs": [],
      "source": [
        "conversation = 'WhatsApp Chat.txt'\n"
      ]
    },
    {
      "cell_type": "code",
      "source": [
        "def date_time(s):\n",
        "    pattern = r'^([0-9]+)/([0-9]+)/([0-9]+),([0-9]+)[ ]?(AM|PM|am|pm)?-'\n",
        "    result = re.match(pattern, s)\n",
        "    if result:\n",
        "        return True\n",
        "    return False\n"
      ],
      "metadata": {
        "id": "Bv6zENYbCF4z"
      },
      "execution_count": 11,
      "outputs": []
    },
    {
      "cell_type": "code",
      "source": [
        "def find_author(s):\n",
        "    s = s.split(\":\")\n",
        "    if len(s) == 2:\n",
        "        return True\n",
        "    else:\n",
        "        return False\n"
      ],
      "metadata": {
        "id": "szBjXRHIFLSn"
      },
      "execution_count": 12,
      "outputs": []
    },
    {
      "cell_type": "code",
      "source": [
        "def messages(line):\n",
        "    splitline = line.split(' - ')\n",
        "    dateTime = splitline[0]\n",
        "\n",
        "    date, time = dateTime.split(\",\")\n",
        "\n",
        "    message = \" \".join(splitline[1:])\n",
        "\n",
        "    if find_author(message):\n",
        "        splitmessage = message.split(\": \")\n",
        "        author = splitmessage[0]\n",
        "        message = \" \".join(splitmessage[1:])\n",
        "    else:\n",
        "        author = None\n",
        "\n",
        "    return date, time, author, message\n"
      ],
      "metadata": {
        "id": "F9CpQF6gFyVz"
      },
      "execution_count": 13,
      "outputs": []
    },
    {
      "cell_type": "code",
      "source": [
        "data = []\n",
        "\n",
        "conversation = 'WhatsApp Chat.txt'\n",
        "\n",
        "with open(conversation, encoding=\"utf-8\") as fp:\n",
        "    fp.readline()\n",
        "\n",
        "    messageBuffer = []\n",
        "    date, time, author = None, None, None\n",
        "\n",
        "    while True:\n",
        "        line = fp.readline()\n",
        "        if not line:\n",
        "            break\n",
        "\n",
        "        line = line.strip()\n",
        "\n",
        "        if date_time(line):\n",
        "            if len(messageBuffer) > 0:\n",
        "                data.append([date, time, author, ' '.join(messageBuffer)])\n",
        "                messageBuffer.clear()\n",
        "\n",
        "                date, time, author, message = getDatapoint(line)\n",
        "                messageBuffer.append(message)\n",
        "            else:\n",
        "                messageBuffer.append(line)\n"
      ],
      "metadata": {
        "id": "g7RmtYNIGq4W"
      },
      "execution_count": 14,
      "outputs": []
    },
    {
      "cell_type": "code",
      "source": [
        "\n",
        "df = pd.DataFrame(data, columns=[\"Date\", \"Time\", \"Author\", \"Message\"])\n",
        "\n",
        "df[\"Date\"] = pd.to_datetime(df['Date'])\n",
        "\n",
        "data = df.dropna()\n",
        "\n",
        "\n",
        "sentiments = SentimentIntensityAnalyzer()\n",
        "\n",
        "data[\"Positive\"] = [sentiments.polarity_scores(msg)[\"pos\"] for msg in data[\"Message\"]]\n",
        "data[\"Negative\"] = [sentiments.polarity_scores(msg)[\"neg\"] for msg in data[\"Message\"]]\n",
        "data[\"Neutral\"]  = [sentiments.polarity_scores(msg)[\"neu\"] for msg in data[\"Message\"]]\n",
        "\n",
        "print (data.head(10))"
      ],
      "metadata": {
        "colab": {
          "base_uri": "https://localhost:8080/"
        },
        "id": "u1AQmHikIbQX",
        "outputId": "1f7dcfe1-464c-40f1-cf54-5919c6a8f728"
      },
      "execution_count": 30,
      "outputs": [
        {
          "output_type": "stream",
          "name": "stdout",
          "text": [
            "Empty DataFrame\n",
            "Columns: [Date, Time, Author, Message, Positive, Negative, Neutral]\n",
            "Index: []\n"
          ]
        }
      ]
    },
    {
      "cell_type": "code",
      "source": [
        "\n",
        "x = sum(data[\"Positive\"])\n",
        "y = sum(data[\"Negative\"])\n",
        "z = sum(data[\"Neutral\"])\n",
        "\n",
        "def score(a, b, c):\n",
        "    if (a > b) and (a > c):\n",
        "        print(\"Positive\")\n",
        "    elif (b > a) and (b > c):\n",
        "        print(\"Negative\")\n",
        "    else:\n",
        "        print(\"Neutral\")\n",
        "\n",
        "score(x, y, z)\n"
      ],
      "metadata": {
        "colab": {
          "base_uri": "https://localhost:8080/"
        },
        "id": "ZwLr9uzLSJgN",
        "outputId": "0186e269-1902-41fa-80cb-ea04553dbdd6"
      },
      "execution_count": 33,
      "outputs": [
        {
          "output_type": "stream",
          "name": "stdout",
          "text": [
            "Neutral\n"
          ]
        }
      ]
    }
  ]
}